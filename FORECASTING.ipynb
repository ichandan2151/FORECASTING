{
 "cells": [
  {
   "cell_type": "code",
   "execution_count": 3,
   "id": "36af6cc1",
   "metadata": {},
   "outputs": [
    {
     "data": {
      "text/html": [
       "<div>\n",
       "<style scoped>\n",
       "    .dataframe tbody tr th:only-of-type {\n",
       "        vertical-align: middle;\n",
       "    }\n",
       "\n",
       "    .dataframe tbody tr th {\n",
       "        vertical-align: top;\n",
       "    }\n",
       "\n",
       "    .dataframe thead th {\n",
       "        text-align: right;\n",
       "    }\n",
       "</style>\n",
       "<table border=\"1\" class=\"dataframe\">\n",
       "  <thead>\n",
       "    <tr style=\"text-align: right;\">\n",
       "      <th></th>\n",
       "      <th>Date</th>\n",
       "      <th>Market</th>\n",
       "      <th>Arrival(q)</th>\n",
       "      <th>Price Minimum (Rs/q)</th>\n",
       "      <th>Price Maximum (Rs/q)</th>\n",
       "      <th>Modal Price (Rs/q)</th>\n",
       "    </tr>\n",
       "  </thead>\n",
       "  <tbody>\n",
       "    <tr>\n",
       "      <th>0</th>\n",
       "      <td>01/Jan/2005</td>\n",
       "      <td>BANGALORE</td>\n",
       "      <td>6823</td>\n",
       "      <td>440</td>\n",
       "      <td>580</td>\n",
       "      <td>510</td>\n",
       "    </tr>\n",
       "    <tr>\n",
       "      <th>1</th>\n",
       "      <td>03/Jan/2005</td>\n",
       "      <td>BANGALORE</td>\n",
       "      <td>5046</td>\n",
       "      <td>400</td>\n",
       "      <td>560</td>\n",
       "      <td>500</td>\n",
       "    </tr>\n",
       "    <tr>\n",
       "      <th>2</th>\n",
       "      <td>05/Jan/2005</td>\n",
       "      <td>BANGALORE</td>\n",
       "      <td>6413</td>\n",
       "      <td>420</td>\n",
       "      <td>560</td>\n",
       "      <td>500</td>\n",
       "    </tr>\n",
       "    <tr>\n",
       "      <th>3</th>\n",
       "      <td>06/Jan/2005</td>\n",
       "      <td>BANGALORE</td>\n",
       "      <td>7496</td>\n",
       "      <td>440</td>\n",
       "      <td>550</td>\n",
       "      <td>500</td>\n",
       "    </tr>\n",
       "    <tr>\n",
       "      <th>4</th>\n",
       "      <td>07/Jan/2005</td>\n",
       "      <td>BANGALORE</td>\n",
       "      <td>9625</td>\n",
       "      <td>410</td>\n",
       "      <td>460</td>\n",
       "      <td>425</td>\n",
       "    </tr>\n",
       "    <tr>\n",
       "      <th>...</th>\n",
       "      <td>...</td>\n",
       "      <td>...</td>\n",
       "      <td>...</td>\n",
       "      <td>...</td>\n",
       "      <td>...</td>\n",
       "      <td>...</td>\n",
       "    </tr>\n",
       "    <tr>\n",
       "      <th>4180</th>\n",
       "      <td>18/Feb/2022</td>\n",
       "      <td>BANGALORE</td>\n",
       "      <td>7840</td>\n",
       "      <td>1600</td>\n",
       "      <td>1800</td>\n",
       "      <td>1700</td>\n",
       "    </tr>\n",
       "    <tr>\n",
       "      <th>4181</th>\n",
       "      <td>22/Feb/2022</td>\n",
       "      <td>BANGALORE</td>\n",
       "      <td>7180</td>\n",
       "      <td>1600</td>\n",
       "      <td>2000</td>\n",
       "      <td>1800</td>\n",
       "    </tr>\n",
       "    <tr>\n",
       "      <th>4182</th>\n",
       "      <td>31/May/2022</td>\n",
       "      <td>BANGALORE</td>\n",
       "      <td>7530</td>\n",
       "      <td>2000</td>\n",
       "      <td>2600</td>\n",
       "      <td>2300</td>\n",
       "    </tr>\n",
       "    <tr>\n",
       "      <th>4183</th>\n",
       "      <td>04/Jun/2022</td>\n",
       "      <td>BANGALORE</td>\n",
       "      <td>9670</td>\n",
       "      <td>2400</td>\n",
       "      <td>2800</td>\n",
       "      <td>2400</td>\n",
       "    </tr>\n",
       "    <tr>\n",
       "      <th>4184</th>\n",
       "      <td>NaN</td>\n",
       "      <td>Total</td>\n",
       "      <td>41389483</td>\n",
       "      <td>954(Avg)</td>\n",
       "      <td>1407(Avg)</td>\n",
       "      <td>1188(Avg)</td>\n",
       "    </tr>\n",
       "  </tbody>\n",
       "</table>\n",
       "<p>4185 rows × 6 columns</p>\n",
       "</div>"
      ],
      "text/plain": [
       "             Date     Market  Arrival(q) Price Minimum (Rs/q)  \\\n",
       "0     01/Jan/2005  BANGALORE        6823                  440   \n",
       "1     03/Jan/2005  BANGALORE        5046                  400   \n",
       "2     05/Jan/2005  BANGALORE        6413                  420   \n",
       "3     06/Jan/2005  BANGALORE        7496                  440   \n",
       "4     07/Jan/2005  BANGALORE        9625                  410   \n",
       "...           ...        ...         ...                  ...   \n",
       "4180  18/Feb/2022  BANGALORE        7840                 1600   \n",
       "4181  22/Feb/2022  BANGALORE        7180                 1600   \n",
       "4182  31/May/2022  BANGALORE        7530                 2000   \n",
       "4183  04/Jun/2022  BANGALORE        9670                 2400   \n",
       "4184          NaN      Total    41389483             954(Avg)   \n",
       "\n",
       "     Price Maximum (Rs/q) Modal Price (Rs/q)  \n",
       "0                     580                510  \n",
       "1                     560                500  \n",
       "2                     560                500  \n",
       "3                     550                500  \n",
       "4                     460                425  \n",
       "...                   ...                ...  \n",
       "4180                 1800               1700  \n",
       "4181                 2000               1800  \n",
       "4182                 2600               2300  \n",
       "4183                 2800               2400  \n",
       "4184            1407(Avg)          1188(Avg)  \n",
       "\n",
       "[4185 rows x 6 columns]"
      ]
     },
     "execution_count": 3,
     "metadata": {},
     "output_type": "execute_result"
    }
   ],
   "source": [
    "#FORECASTING - predicting something with respect to time or data\n",
    "#FORECASTING THE VEGITABLE PRICES\n",
    "#dataset - https://nhrdf.org/en-us/DailyWiseMarketArrivals\n",
    "import pandas as pd\n",
    "df = pd.read_html('DailyWiseMarketArrivals.html')[-1]\n",
    "df"
   ]
  },
  {
   "cell_type": "code",
   "execution_count": 8,
   "id": "d5ca0ebc",
   "metadata": {},
   "outputs": [
    {
     "name": "stdout",
     "output_type": "stream",
     "text": [
      "<class 'pandas.core.frame.DataFrame'>\n",
      "RangeIndex: 4185 entries, 0 to 4184\n",
      "Data columns (total 6 columns):\n",
      " #   Column                Non-Null Count  Dtype \n",
      "---  ------                --------------  ----- \n",
      " 0   Date                  4184 non-null   object\n",
      " 1   Market                4185 non-null   object\n",
      " 2   Arrival(q)            4185 non-null   int64 \n",
      " 3   Price Minimum (Rs/q)  4185 non-null   object\n",
      " 4   Price Maximum (Rs/q)  4185 non-null   object\n",
      " 5   Modal Price (Rs/q)    4185 non-null   object\n",
      "dtypes: int64(1), object(5)\n",
      "memory usage: 196.3+ KB\n"
     ]
    }
   ],
   "source": [
    "df.info()"
   ]
  },
  {
   "cell_type": "code",
   "execution_count": 9,
   "id": "52e69296",
   "metadata": {},
   "outputs": [],
   "source": [
    "df = df.dropna()"
   ]
  },
  {
   "cell_type": "code",
   "execution_count": 11,
   "id": "14097483",
   "metadata": {},
   "outputs": [
    {
     "data": {
      "text/plain": [
       "Date                    0\n",
       "Market                  0\n",
       "Arrival(q)              0\n",
       "Price Minimum (Rs/q)    0\n",
       "Price Maximum (Rs/q)    0\n",
       "Modal Price (Rs/q)      0\n",
       "dtype: int64"
      ]
     },
     "execution_count": 11,
     "metadata": {},
     "output_type": "execute_result"
    }
   ],
   "source": [
    "df.isnull().sum()"
   ]
  },
  {
   "cell_type": "code",
   "execution_count": 17,
   "id": "6d85b8ea",
   "metadata": {},
   "outputs": [],
   "source": [
    "#here for forecasting , we use a library called FB Prophet.\n",
    "#The input to FB prophet is always a columns(ds,y)\n",
    "#So we consider Date columns(ds) and modal price(y) column\n",
    "#now remane the date column as ds and modal price column as y\n",
    "df = df.rename(columns = {'Modal Price (Rs/q)':'y','Date':'ds'})\n"
   ]
  },
  {
   "cell_type": "code",
   "execution_count": 19,
   "id": "1a48eef2",
   "metadata": {},
   "outputs": [
    {
     "data": {
      "text/html": [
       "<div>\n",
       "<style scoped>\n",
       "    .dataframe tbody tr th:only-of-type {\n",
       "        vertical-align: middle;\n",
       "    }\n",
       "\n",
       "    .dataframe tbody tr th {\n",
       "        vertical-align: top;\n",
       "    }\n",
       "\n",
       "    .dataframe thead th {\n",
       "        text-align: right;\n",
       "    }\n",
       "</style>\n",
       "<table border=\"1\" class=\"dataframe\">\n",
       "  <thead>\n",
       "    <tr style=\"text-align: right;\">\n",
       "      <th></th>\n",
       "      <th>ds</th>\n",
       "      <th>y</th>\n",
       "    </tr>\n",
       "  </thead>\n",
       "  <tbody>\n",
       "    <tr>\n",
       "      <th>0</th>\n",
       "      <td>01/Jan/2005</td>\n",
       "      <td>510</td>\n",
       "    </tr>\n",
       "    <tr>\n",
       "      <th>1</th>\n",
       "      <td>03/Jan/2005</td>\n",
       "      <td>500</td>\n",
       "    </tr>\n",
       "    <tr>\n",
       "      <th>2</th>\n",
       "      <td>05/Jan/2005</td>\n",
       "      <td>500</td>\n",
       "    </tr>\n",
       "    <tr>\n",
       "      <th>3</th>\n",
       "      <td>06/Jan/2005</td>\n",
       "      <td>500</td>\n",
       "    </tr>\n",
       "    <tr>\n",
       "      <th>4</th>\n",
       "      <td>07/Jan/2005</td>\n",
       "      <td>425</td>\n",
       "    </tr>\n",
       "    <tr>\n",
       "      <th>...</th>\n",
       "      <td>...</td>\n",
       "      <td>...</td>\n",
       "    </tr>\n",
       "    <tr>\n",
       "      <th>4179</th>\n",
       "      <td>17/Feb/2022</td>\n",
       "      <td>1500</td>\n",
       "    </tr>\n",
       "    <tr>\n",
       "      <th>4180</th>\n",
       "      <td>18/Feb/2022</td>\n",
       "      <td>1700</td>\n",
       "    </tr>\n",
       "    <tr>\n",
       "      <th>4181</th>\n",
       "      <td>22/Feb/2022</td>\n",
       "      <td>1800</td>\n",
       "    </tr>\n",
       "    <tr>\n",
       "      <th>4182</th>\n",
       "      <td>31/May/2022</td>\n",
       "      <td>2300</td>\n",
       "    </tr>\n",
       "    <tr>\n",
       "      <th>4183</th>\n",
       "      <td>04/Jun/2022</td>\n",
       "      <td>2400</td>\n",
       "    </tr>\n",
       "  </tbody>\n",
       "</table>\n",
       "<p>4184 rows × 2 columns</p>\n",
       "</div>"
      ],
      "text/plain": [
       "               ds     y\n",
       "0     01/Jan/2005   510\n",
       "1     03/Jan/2005   500\n",
       "2     05/Jan/2005   500\n",
       "3     06/Jan/2005   500\n",
       "4     07/Jan/2005   425\n",
       "...           ...   ...\n",
       "4179  17/Feb/2022  1500\n",
       "4180  18/Feb/2022  1700\n",
       "4181  22/Feb/2022  1800\n",
       "4182  31/May/2022  2300\n",
       "4183  04/Jun/2022  2400\n",
       "\n",
       "[4184 rows x 2 columns]"
      ]
     },
     "execution_count": 19,
     "metadata": {},
     "output_type": "execute_result"
    }
   ],
   "source": [
    "df_new = df[['ds','y']]\n",
    "\n",
    "df_new"
   ]
  },
  {
   "cell_type": "code",
   "execution_count": 20,
   "id": "db87e2af",
   "metadata": {},
   "outputs": [
    {
     "name": "stdout",
     "output_type": "stream",
     "text": [
      "<class 'pandas.core.frame.DataFrame'>\n",
      "Int64Index: 4184 entries, 0 to 4183\n",
      "Data columns (total 2 columns):\n",
      " #   Column  Non-Null Count  Dtype \n",
      "---  ------  --------------  ----- \n",
      " 0   ds      4184 non-null   object\n",
      " 1   y       4184 non-null   object\n",
      "dtypes: object(2)\n",
      "memory usage: 98.1+ KB\n"
     ]
    }
   ],
   "source": [
    "df_new.info()"
   ]
  },
  {
   "cell_type": "code",
   "execution_count": 25,
   "id": "288557c4",
   "metadata": {},
   "outputs": [
    {
     "name": "stderr",
     "output_type": "stream",
     "text": [
      "C:\\Users\\chand\\AppData\\Local\\Temp\\ipykernel_17256\\1023274768.py:4: SettingWithCopyWarning: \n",
      "A value is trying to be set on a copy of a slice from a DataFrame.\n",
      "Try using .loc[row_indexer,col_indexer] = value instead\n",
      "\n",
      "See the caveats in the documentation: https://pandas.pydata.org/pandas-docs/stable/user_guide/indexing.html#returning-a-view-versus-a-copy\n",
      "  df_new['ds'] = pd.to_datetime(df_new['ds'])\n",
      "C:\\Users\\chand\\AppData\\Local\\Temp\\ipykernel_17256\\1023274768.py:5: SettingWithCopyWarning: \n",
      "A value is trying to be set on a copy of a slice from a DataFrame.\n",
      "Try using .loc[row_indexer,col_indexer] = value instead\n",
      "\n",
      "See the caveats in the documentation: https://pandas.pydata.org/pandas-docs/stable/user_guide/indexing.html#returning-a-view-versus-a-copy\n",
      "  df_new['y'] = df_new['y'].astype(int)\n"
     ]
    }
   ],
   "source": [
    "#the columns dont have proper datatype formant \n",
    "# hence we convert the ds column from string to datetime datatype format\n",
    "#and convert the y column from string to int64 datatype format\n",
    "df_new['ds'] = pd.to_datetime(df_new['ds'])\n",
    "df_new['y'] = df_new['y'].astype(int)"
   ]
  },
  {
   "cell_type": "code",
   "execution_count": 26,
   "id": "4ed6fe1b",
   "metadata": {},
   "outputs": [
    {
     "name": "stdout",
     "output_type": "stream",
     "text": [
      "<class 'pandas.core.frame.DataFrame'>\n",
      "Int64Index: 4184 entries, 0 to 4183\n",
      "Data columns (total 2 columns):\n",
      " #   Column  Non-Null Count  Dtype         \n",
      "---  ------  --------------  -----         \n",
      " 0   ds      4184 non-null   datetime64[ns]\n",
      " 1   y       4184 non-null   int32         \n",
      "dtypes: datetime64[ns](1), int32(1)\n",
      "memory usage: 81.7 KB\n"
     ]
    }
   ],
   "source": [
    "df_new.info()"
   ]
  },
  {
   "cell_type": "code",
   "execution_count": 27,
   "id": "26e50bc6",
   "metadata": {},
   "outputs": [
    {
     "data": {
      "text/plain": [
       "<matplotlib.collections.PathCollection at 0x1c83e008d30>"
      ]
     },
     "execution_count": 27,
     "metadata": {},
     "output_type": "execute_result"
    },
    {
     "data": {
      "image/png": "[encoded data removed]",
      "text/plain": [
       "<Figure size 1800x504 with 1 Axes>"
      ]
     },
     "metadata": {
      "needs_background": "light"
     },
     "output_type": "display_data"
    }
   ],
   "source": [
    "#visualisation \n",
    "import matplotlib.pyplot as plt\n",
    "plt.figure(figsize = (25,7))\n",
    "plt.scatter(df_new['ds'],df_new['y'])"
   ]
  },
  {
   "cell_type": "code",
   "execution_count": 28,
   "id": "a6115260",
   "metadata": {},
   "outputs": [
    {
     "ename": "ModuleNotFoundError",
     "evalue": "No module named 'fbprophet'",
     "output_type": "error",
     "traceback": [
      "\u001b[1;31m---------------------------------------------------------------------------\u001b[0m",
      "\u001b[1;31mModuleNotFoundError\u001b[0m                       Traceback (most recent call last)",
      "Input \u001b[1;32mIn [28]\u001b[0m, in \u001b[0;36m<cell line: 2>\u001b[1;34m()\u001b[0m\n\u001b[0;32m      1\u001b[0m \u001b[38;5;66;03m#FB PROPHET\u001b[39;00m\n\u001b[1;32m----> 2\u001b[0m \u001b[38;5;28;01mimport\u001b[39;00m \u001b[38;5;21;01mfbprophet\u001b[39;00m\n",
      "\u001b[1;31mModuleNotFoundError\u001b[0m: No module named 'fbprophet'"
     ]
    }
   ],
   "source": [
    "#FB PROPHET\n",
    "import fbprophet"
   ]
  },
  {
   "cell_type": "code",
   "execution_count": null,
   "id": "e11e0a54",
   "metadata": {},
   "outputs": [],
   "source": []
  }
 ],
 "metadata": {
  "kernelspec": {
   "display_name": "Python 3 (ipykernel)",
   "language": "python",
   "name": "python3"
  },
  "language_info": {
   "codemirror_mode": {
    "name": "ipython",
    "version": 3
   },
   "file_extension": ".py",
   "mimetype": "text/x-python",
   "name": "python",
   "nbconvert_exporter": "python",
   "pygments_lexer": "ipython3",
   "version": "3.10.1"
  }
 },
 "nbformat": 4,
 "nbformat_minor": 5
}
